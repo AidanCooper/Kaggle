{
 "cells": [
  {
   "cell_type": "markdown",
   "metadata": {},
   "source": [
    "# Don't Overfit! II\n",
    "\n",
    "<a href=\"https://www.kaggle.com/c/dont-overfit-ii\">Link to competition on Kaggle</a>\n",
    "\n",
    "Inspiration taken from the following Kaggle kernels:\n",
    "- <a href=\"https://www.kaggle.com/featureblind/robust-lasso-patches-with-rfe-gs\">Robust, Lasso, Patches with RFE & GS</a>"
   ]
  },
  {
   "cell_type": "code",
   "execution_count": null,
   "metadata": {},
   "outputs": [],
   "source": []
  }
 ],
 "metadata": {
  "kernelspec": {
   "display_name": "Python 3",
   "language": "python",
   "name": "python3"
  },
  "language_info": {
   "codemirror_mode": {
    "name": "ipython",
    "version": 3
   },
   "file_extension": ".py",
   "mimetype": "text/x-python",
   "name": "python",
   "nbconvert_exporter": "python",
   "pygments_lexer": "ipython3",
   "version": "3.5.5"
  }
 },
 "nbformat": 4,
 "nbformat_minor": 2
}
