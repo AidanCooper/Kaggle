{
 "cells": [
  {
   "cell_type": "code",
   "execution_count": 1,
   "metadata": {
    "collapsed": true
   },
   "outputs": [],
   "source": [
    "import os\n",
    "import pandas as pd\n",
    "import time\n",
    "\n",
    "from google.cloud import automl_v1beta1\n",
    "from google.cloud.automl_v1beta1.proto import service_pb2"
   ]
  },
  {
   "cell_type": "code",
   "execution_count": 2,
   "metadata": {
    "collapsed": true
   },
   "outputs": [],
   "source": [
    "def get_prediction(content, project_id, model_id):\n",
    "    prediction_client = automl_v1beta1.PredictionServiceClient()\n",
    "\n",
    "    name = 'projects/{}/locations/us-central1/models/{}'.format(project_id, model_id)\n",
    "    payload = {'image': {'image_bytes': content }}\n",
    "    params = {}\n",
    "    request = prediction_client.predict(name, payload, params)\n",
    "    return request  # waits till request is returned"
   ]
  },
  {
   "cell_type": "code",
   "execution_count": 3,
   "metadata": {
    "collapsed": false
   },
   "outputs": [
    {
     "name": "stdout",
     "output_type": "stream",
     "text": [
      "Running image 0/794. Cumulative run time 0.0 minutes.\n",
      "Failed to identify image 01291174f.png. Labelling as loose_silky_bent (most populous class).\n",
      "Failed to identify image 0911d3dee.png. Labelling as loose_silky_bent (most populous class).\n",
      "Failed to identify image 0c27cf05f.png. Labelling as loose_silky_bent (most populous class).\n",
      "Failed to identify image 0dba99002.png. Labelling as loose_silky_bent (most populous class).\n",
      "Failed to identify image 177d7e2a4.png. Labelling as loose_silky_bent (most populous class).\n",
      "Failed to identify image 1f290e016.png. Labelling as loose_silky_bent (most populous class).\n",
      "Running image 100/794. Cumulative run time 2.7 minutes.\n",
      "Failed to identify image 205df1df3.png. Labelling as loose_silky_bent (most populous class).\n",
      "Failed to identify image 3185294c8.png. Labelling as loose_silky_bent (most populous class).\n",
      "Failed to identify image 3f826b318.png. Labelling as loose_silky_bent (most populous class).\n",
      "Running image 200/794. Cumulative run time 5.2 minutes.\n",
      "Failed to identify image 4392d93cf.png. Labelling as loose_silky_bent (most populous class).\n",
      "Failed to identify image 4f44ca525.png. Labelling as loose_silky_bent (most populous class).\n",
      "Failed to identify image 5b63dcc21.png. Labelling as loose_silky_bent (most populous class).\n",
      "Running image 300/794. Cumulative run time 7.9 minutes.\n",
      "Failed to identify image 7d4cd07ad.png. Labelling as loose_silky_bent (most populous class).\n",
      "Failed to identify image 809eb0b82.png. Labelling as loose_silky_bent (most populous class).\n",
      "Failed to identify image 8104422bb.png. Labelling as loose_silky_bent (most populous class).\n",
      "Running image 400/794. Cumulative run time 10.4 minutes.\n",
      "Failed to identify image 8dbb8e1b9.png. Labelling as loose_silky_bent (most populous class).\n",
      "Failed to identify image 90b595f12.png. Labelling as loose_silky_bent (most populous class).\n",
      "Failed to identify image 974959ec1.png. Labelling as loose_silky_bent (most populous class).\n",
      "Failed to identify image a006a475c.png. Labelling as loose_silky_bent (most populous class).\n",
      "Failed to identify image a0b393945.png. Labelling as loose_silky_bent (most populous class).\n",
      "Running image 500/794. Cumulative run time 13.0 minutes.\n",
      "Failed to identify image a19c3faca.png. Labelling as loose_silky_bent (most populous class).\n",
      "Failed to identify image a35fd6fbb.png. Labelling as loose_silky_bent (most populous class).\n",
      "Failed to identify image a74d475c2.png. Labelling as loose_silky_bent (most populous class).\n",
      "Failed to identify image bb1d1bfd3.png. Labelling as loose_silky_bent (most populous class).\n",
      "Failed to identify image bb7621cb3.png. Labelling as loose_silky_bent (most populous class).\n",
      "Running image 600/794. Cumulative run time 15.5 minutes.\n",
      "Failed to identify image c7eb96871.png. Labelling as loose_silky_bent (most populous class).\n",
      "Failed to identify image d0cdc768f.png. Labelling as loose_silky_bent (most populous class).\n",
      "Running image 700/794. Cumulative run time 18.0 minutes.\n",
      "Failed to identify image e14afa235.png. Labelling as loose_silky_bent (most populous class).\n",
      "Failed to identify image e5881dd33.png. Labelling as loose_silky_bent (most populous class).\n",
      "Failed to identify image e96e57a90.png. Labelling as loose_silky_bent (most populous class).\n",
      "Failed to identify image e98e5d1d5.png. Labelling as loose_silky_bent (most populous class).\n",
      "Failed to identify image fb022edf9.png. Labelling as loose_silky_bent (most populous class).\n",
      "Failed to identify image fd925f542.png. Labelling as loose_silky_bent (most populous class).\n",
      "Failed to identify image fea1d13d6.png. Labelling as loose_silky_bent (most populous class).\n"
     ]
    },
    {
     "ename": "AttributeError",
     "evalue": "'float' object has no attribute '1f'",
     "output_type": "error",
     "traceback": [
      "\u001b[1;31m---------------------------------------------------------------------------\u001b[0m",
      "\u001b[1;31mAttributeError\u001b[0m                            Traceback (most recent call last)",
      "\u001b[1;32m<ipython-input-3-5376180d35cf>\u001b[0m in \u001b[0;36m<module>\u001b[1;34m()\u001b[0m\n\u001b[0;32m     25\u001b[0m \u001b[1;33m\u001b[0m\u001b[0m\n\u001b[0;32m     26\u001b[0m \u001b[0mtoc\u001b[0m \u001b[1;33m=\u001b[0m \u001b[0mtime\u001b[0m\u001b[1;33m.\u001b[0m\u001b[0mtime\u001b[0m\u001b[1;33m(\u001b[0m\u001b[1;33m)\u001b[0m\u001b[1;33m\u001b[0m\u001b[0m\n\u001b[1;32m---> 27\u001b[1;33m \u001b[0mprint\u001b[0m\u001b[1;33m(\u001b[0m\u001b[1;34m\"Completed! Total run time {.1f}s.\"\u001b[0m\u001b[1;33m.\u001b[0m\u001b[0mformat\u001b[0m\u001b[1;33m(\u001b[0m\u001b[0mtoc\u001b[0m\u001b[1;33m-\u001b[0m\u001b[0mtic\u001b[0m\u001b[1;33m)\u001b[0m\u001b[1;33m)\u001b[0m\u001b[1;33m\u001b[0m\u001b[0m\n\u001b[0m",
      "\u001b[1;31mAttributeError\u001b[0m: 'float' object has no attribute '1f'"
     ]
    }
   ],
   "source": [
    "project_id = 'YOUR_PROJECT_ID'\n",
    "model_id = 'YOUR_MODEL_ID'\n",
    "\n",
    "predictions = []\n",
    "\n",
    "tic = time.time()\n",
    "for i, image in enumerate(os.listdir('Data/test/')):\n",
    "    if i % 100 == 0:\n",
    "        toc = time.time()\n",
    "        print(\"Running image {}/{}. Cumulative run time {:.1f} minutes.\".format(\n",
    "            i, len(os.listdir('Data/test/')), (toc-tic)/60))\n",
    "    \n",
    "    file_path = 'Data/test/%s' % image\n",
    "    \n",
    "    with open(file_path, 'rb') as ff:\n",
    "        content = ff.read()\n",
    "\n",
    "    pred = get_prediction(content, project_id,  model_id)\n",
    "    try:\n",
    "        label = pred.payload[0].display_name\n",
    "        predictions.append(label)\n",
    "    except:\n",
    "        print(\"Failed to identify image {}. Labelling as loose_silky_bent (most populous class).\".format(image))\n",
    "        predictions.append('loose_silky_bent')\n",
    "    \n",
    "toc = time.time()\n",
    "print(\"Completed! Total run time {:.1f}s.\".format(toc-tic))"
   ]
  },
  {
   "cell_type": "code",
   "execution_count": 4,
   "metadata": {
    "collapsed": true
   },
   "outputs": [],
   "source": [
    "mapping = {\n",
    "    'black_grass': 'Black-grass',\n",
    "    'charlock': 'Charlock',\n",
    "    'cleavers': 'Cleavers',\n",
    "    'common_chickweed': 'Common Chickweed',\n",
    "    'common_wheat': 'Common wheat',\n",
    "    'fat_hen': 'Fat Hen',\n",
    "    'loose_silky_bent': 'Loose Silky-bent',\n",
    "    'maize': 'Maize',\n",
    "    'scentless_mayweed': 'Scentless Mayweed',\n",
    "    'shepherds_purse': 'Shepherds Purse',\n",
    "    'small_flowered_cranesbill': 'Small-flowered Cranesbill',\n",
    "    'sugar_beet': 'Sugar beet'\n",
    "}\n",
    "\n",
    "predictions = [mapping[k] for k in predictions]"
   ]
  },
  {
   "cell_type": "code",
   "execution_count": 5,
   "metadata": {
    "collapsed": false
   },
   "outputs": [
    {
     "data": {
      "text/html": [
       "<div>\n",
       "<style>\n",
       "    .dataframe thead tr:only-child th {\n",
       "        text-align: right;\n",
       "    }\n",
       "\n",
       "    .dataframe thead th {\n",
       "        text-align: left;\n",
       "    }\n",
       "\n",
       "    .dataframe tbody tr th {\n",
       "        vertical-align: top;\n",
       "    }\n",
       "</style>\n",
       "<table border=\"1\" class=\"dataframe\">\n",
       "  <thead>\n",
       "    <tr style=\"text-align: right;\">\n",
       "      <th></th>\n",
       "      <th>file</th>\n",
       "      <th>species</th>\n",
       "    </tr>\n",
       "  </thead>\n",
       "  <tbody>\n",
       "    <tr>\n",
       "      <th>0</th>\n",
       "      <td>0021e90e4.png</td>\n",
       "      <td>Small-flowered Cranesbill</td>\n",
       "    </tr>\n",
       "    <tr>\n",
       "      <th>1</th>\n",
       "      <td>003d61042.png</td>\n",
       "      <td>Fat Hen</td>\n",
       "    </tr>\n",
       "    <tr>\n",
       "      <th>2</th>\n",
       "      <td>007b3da8b.png</td>\n",
       "      <td>Sugar beet</td>\n",
       "    </tr>\n",
       "    <tr>\n",
       "      <th>3</th>\n",
       "      <td>0086a6340.png</td>\n",
       "      <td>Common Chickweed</td>\n",
       "    </tr>\n",
       "    <tr>\n",
       "      <th>4</th>\n",
       "      <td>00c47e980.png</td>\n",
       "      <td>Sugar beet</td>\n",
       "    </tr>\n",
       "  </tbody>\n",
       "</table>\n",
       "</div>"
      ],
      "text/plain": [
       "            file                    species\n",
       "0  0021e90e4.png  Small-flowered Cranesbill\n",
       "1  003d61042.png                    Fat Hen\n",
       "2  007b3da8b.png                 Sugar beet\n",
       "3  0086a6340.png           Common Chickweed\n",
       "4  00c47e980.png                 Sugar beet"
      ]
     },
     "execution_count": 5,
     "metadata": {},
     "output_type": "execute_result"
    }
   ],
   "source": [
    "autoML_preds = pd.DataFrame(columns=['file', 'species'])\n",
    "autoML_preds['file'] = pd.Series(os.listdir('Data/test/'))\n",
    "autoML_preds['species'] = pd.Series(predictions)\n",
    "autoML_preds.head()"
   ]
  },
  {
   "cell_type": "code",
   "execution_count": 6,
   "metadata": {
    "collapsed": true
   },
   "outputs": [],
   "source": [
    "autoML_preds.to_csv('autoML.csv', index=False)"
   ]
  },
  {
   "cell_type": "code",
   "execution_count": null,
   "metadata": {
    "collapsed": true
   },
   "outputs": [],
   "source": []
  }
 ],
 "metadata": {
  "kernelspec": {
   "display_name": "Python [default]",
   "language": "python",
   "name": "python3"
  },
  "language_info": {
   "codemirror_mode": {
    "name": "ipython",
    "version": 3
   },
   "file_extension": ".py",
   "mimetype": "text/x-python",
   "name": "python",
   "nbconvert_exporter": "python",
   "pygments_lexer": "ipython3",
   "version": "3.6.6"
  }
 },
 "nbformat": 4,
 "nbformat_minor": 2
}
